{
  "nbformat": 4,
  "nbformat_minor": 0,
  "metadata": {
    "colab": {
      "provenance": [],
      "collapsed_sections": [
        "cgx4Yv6ScVnp",
        "-7zVI7Xjcfw4",
        "2f5n2wNickXh",
        "6nqR-jYjcqEh",
        "a8pAdD-Jcvty",
        "vQN6B2EOy9bL",
        "NdpnOAHNzTyj",
        "hmtk78oF56bc",
        "sBQi_fLPXNww"
      ],
      "authorship_tag": "ABX9TyOoX7p+d3n2IFfrc/Kx9sa+",
      "include_colab_link": true
    },
    "kernelspec": {
      "name": "python3",
      "display_name": "Python 3"
    },
    "language_info": {
      "name": "python"
    }
  },
  "cells": [
    {
      "cell_type": "markdown",
      "metadata": {
        "id": "view-in-github",
        "colab_type": "text"
      },
      "source": [
        "<a href=\"https://colab.research.google.com/github/Alejandro-XIII/Proyecto-Final-SO/blob/main/Proyecto_Final.ipynb\" target=\"_parent\"><img src=\"https://colab.research.google.com/assets/colab-badge.svg\" alt=\"Open In Colab\"/></a>"
      ]
    },
    {
      "cell_type": "markdown",
      "source": [
        "#Scheduling"
      ],
      "metadata": {
        "id": "cgx4Yv6ScVnp"
      }
    },
    {
      "cell_type": "markdown",
      "source": [
        "##FCFS"
      ],
      "metadata": {
        "id": "-7zVI7Xjcfw4"
      }
    },
    {
      "cell_type": "code",
      "execution_count": 5,
      "metadata": {
        "id": "7q5goaWFcQIa"
      },
      "outputs": [],
      "source": [
        "def fcfs(processes):\n",
        "    processes_sorted = sorted(processes, key=lambda x: x['arrival_time'])\n",
        "    scheduling = []\n",
        "    time = 0\n",
        "    for process in processes_sorted:\n",
        "      time += process['run_time']\n",
        "      scheduling.append((process['name'], time))\n",
        "    return scheduling"
      ]
    },
    {
      "cell_type": "markdown",
      "source": [
        "##SJF"
      ],
      "metadata": {
        "id": "2f5n2wNickXh"
      }
    },
    {
      "cell_type": "code",
      "source": [
        "def sjf(processes):\n",
        "    processes_remaining = [{'name': p['name'], 'arrival_time': p['arrival_time'], 'run_time': p['run_time']} for p in processes] # Crear una copia de los procesos para no modificar la entrada original\n",
        "    scheduling = []\n",
        "    time = 0\n",
        "    while processes_remaining:\n",
        "      available_processes = [p for p in processes_remaining if p['arrival_time'] <= time] # Actualizar la lista de procesos restantes filtrando por arrival_time <= time\n",
        "      shortest_process = min(available_processes, key=lambda x: x['run_time']) # Encontrar el proceso con la menor duración de tiempo restante\n",
        "      time += shortest_process['run_time']\n",
        "      processes_remaining.remove(shortest_process)\n",
        "      scheduling.append((shortest_process['name'], time))\n",
        "    return scheduling\n"
      ],
      "metadata": {
        "id": "b0g3vdQDcoF7"
      },
      "execution_count": 6,
      "outputs": []
    },
    {
      "cell_type": "markdown",
      "source": [
        "##STCF"
      ],
      "metadata": {
        "id": "6nqR-jYjcqEh"
      }
    },
    {
      "cell_type": "code",
      "source": [
        "def stcf(processes):\n",
        "    processes_remaining = [{'name': p['name'], 'arrival_time': p['arrival_time'], 'run_time': p['run_time']} for p in processes] # Crear una copia de los procesos para no modificar la entrada original\n",
        "    max_arrival_time = max(processes_remaining, key=lambda p: p['arrival_time'])['arrival_time'] # Obtener el arrival_time más alto\n",
        "    scheduling = []\n",
        "    time = 0\n",
        "    while processes_remaining:\n",
        "      if time < max_arrival_time:\n",
        "        available_processes = [p for p in processes_remaining if p['arrival_time'] <= time] # Actualizar la lista de procesos restantes filtrando por arrival_time <= time\n",
        "        shortest_process = min(available_processes, key=lambda x: x['run_time']) # Encontrar el proceso con la menor duración de tiempo restante\n",
        "        next_arrival_time  = min([p['arrival_time'] for p in processes_remaining if p['arrival_time'] > time]) # Actualizar el siguiente arrival_time\n",
        "        if shortest_process['run_time'] < (next_arrival_time-time):\n",
        "          time += shortest_process['run_time']\n",
        "          processes_remaining.remove(shortest_process)\n",
        "        else:\n",
        "          next(p for p in processes_remaining if p['name'] == shortest_process['name'])['run_time'] -= (next_arrival_time-time)\n",
        "          time = next_arrival_time\n",
        "        if scheduling and scheduling[-1][0] == shortest_process['name']:\n",
        "          scheduling[-1] = (shortest_process['name'], time)\n",
        "        else:\n",
        "          scheduling.append((shortest_process['name'], time))\n",
        "      else:\n",
        "        processes_sorted = sorted(processes_remaining, key=lambda x: x['run_time'])\n",
        "        for process in processes_sorted:\n",
        "          time += process['run_time']\n",
        "          if scheduling and scheduling[-1][0] == process['name']:  # Si el último proceso en scheduling es el mismo que el process, actualizamos el último tiempo\n",
        "            scheduling[-1] = (process['name'], time)\n",
        "          else:\n",
        "            scheduling.append((process['name'], time))\n",
        "          processes_remaining.remove(process)\n",
        "    return scheduling\n"
      ],
      "metadata": {
        "id": "mozxnP19cFaM"
      },
      "execution_count": 7,
      "outputs": []
    },
    {
      "cell_type": "markdown",
      "source": [
        "##RR"
      ],
      "metadata": {
        "id": "a8pAdD-Jcvty"
      }
    },
    {
      "cell_type": "code",
      "source": [
        "def rr(processes, quantum):\n",
        "    processes_remaining = [{'name': p['name'], 'arrival_time': p['arrival_time'], 'run_time': p['run_time']} for p in processes]\n",
        "    scheduling = []\n",
        "    time = 0\n",
        "    queue = []  # Cola de procesos listos para ejecutarse\n",
        "    while processes_remaining or queue:\n",
        "        for process in processes_remaining:\n",
        "            if process['arrival_time'] <= time and process not in queue:\n",
        "                queue.insert(0, process)  # Insertamos el nuevo proceso al principio de la cola\n",
        "        process = queue.pop(0)  # Tomamos el primer proceso de la cola\n",
        "        if process['run_time'] > quantum:  # Si el proceso no termina en este quantum, se le resta el tiempo del quantum y se vuelve a poner en la cola\n",
        "            process['run_time'] -= quantum\n",
        "            time += quantum\n",
        "            queue.append(process)  # Volvemos a agregar el proceso al final de la cola si aún tiene tiempo restante\n",
        "        else:  # Si el proceso termina en este quantum, lo ejecutamos completamente\n",
        "            time += process['run_time']\n",
        "            process['run_time'] = 0  # El proceso ya terminó\n",
        "        scheduling.append((process['name'], time))\n",
        "        processes_remaining = [p for p in processes_remaining if p['name'] != process['name']] # Eliminamos el proceso de la lista de procesos restantes\n",
        "    return scheduling\n"
      ],
      "metadata": {
        "id": "3L3PBTQPc1Vr"
      },
      "execution_count": 8,
      "outputs": []
    },
    {
      "cell_type": "markdown",
      "source": [
        "##Imprimir scheduling"
      ],
      "metadata": {
        "id": "vQN6B2EOy9bL"
      }
    },
    {
      "cell_type": "code",
      "source": [
        "import matplotlib.pyplot as plt\n",
        "import matplotlib.patches as patches\n",
        "\n",
        "# Define un diccionario de colores para cada proceso\n",
        "process_colors = {\n",
        "    'A': 'red',     # Color para el proceso A\n",
        "    'B': 'blue',    # Color para el proceso B\n",
        "    'C': 'green',   # Color para el proceso C\n",
        "    # Agrega más procesos y colores según sea necesario\n",
        "}\n",
        "\n",
        "def plot_scheduling(scheduling, tt, tr):\n",
        "    start_time = 0\n",
        "    positions = []\n",
        "    for name, end_time in scheduling:\n",
        "        positions.append((name, start_time, end_time - start_time))\n",
        "        start_time = end_time\n",
        "\n",
        "    fig, ax = plt.subplots(figsize=(10, 2))  # Ajusta el tamaño de la figura\n",
        "    ax.set_xlim(0, scheduling[-1][1])  # Fija el límite del eje x\n",
        "    ax.set_ylim(0, 1)  # Fija el límite del eje y\n",
        "\n",
        "    for name, start, duration in positions:\n",
        "        color = process_colors.get(name, 'gray')  # Obtiene el color o usa gris por defecto\n",
        "        rect = patches.Rectangle((start, 0.5), duration, 0.3, edgecolor='black', facecolor=color)\n",
        "        ax.add_patch(rect)\n",
        "        ax.text(start + duration / 2, 0.65, name, ha='center', va='center', color='white', fontsize=10)\n",
        "\n",
        "    ax.get_yaxis().set_visible(False)  # Oculta el eje y\n",
        "    ax.set_xlabel(f\"TT: {tt}         TR: {tr}\")\n",
        "\n",
        "    plt.show()"
      ],
      "metadata": {
        "id": "YJp_MAmqtmqk"
      },
      "execution_count": 9,
      "outputs": []
    },
    {
      "cell_type": "markdown",
      "source": [
        "##Tturnaround"
      ],
      "metadata": {
        "id": "NdpnOAHNzTyj"
      }
    },
    {
      "cell_type": "code",
      "source": [
        "def t_turnaround(scheduling, processes):\n",
        "  t_turnaround = 0\n",
        "  for process in processes:\n",
        "    for name, t_completion in reversed(scheduling):\n",
        "      if name == process['name']:\n",
        "        t_turnaround += t_completion - process['arrival_time']\n",
        "        break\n",
        "  return t_turnaround / len(processes)"
      ],
      "metadata": {
        "id": "KABAYZX1zuy7"
      },
      "execution_count": 10,
      "outputs": []
    },
    {
      "cell_type": "markdown",
      "source": [
        "##Tresponse"
      ],
      "metadata": {
        "id": "hmtk78oF56bc"
      }
    },
    {
      "cell_type": "code",
      "source": [
        "def t_response(scheduling, processes):\n",
        "  t_response = 0\n",
        "  for process in processes:\n",
        "    for i in range(len(scheduling)):\n",
        "      if scheduling[i][0] == process['name']:\n",
        "        if i == 0: t_firstrun = 0\n",
        "        else: t_firstrun = scheduling[i-1][1]\n",
        "        t_response += t_firstrun - process['arrival_time']\n",
        "        break\n",
        "  return t_response / len(processes)"
      ],
      "metadata": {
        "id": "1etMqiK_5_Kd"
      },
      "execution_count": 11,
      "outputs": []
    },
    {
      "cell_type": "markdown",
      "source": [
        "#Modelo"
      ],
      "metadata": {
        "id": "mST8eZUFcXbQ"
      }
    },
    {
      "cell_type": "markdown",
      "source": [
        "##Dependencias"
      ],
      "metadata": {
        "id": "sBQi_fLPXNww"
      }
    },
    {
      "cell_type": "code",
      "source": [
        "# Primero, reinstalar numpy y pandas en versiones estables en Colab.\n",
        "!pip install numpy==1.23.5 pandas==2.2.2\n",
        "\n",
        "# Instalar gymnasium y shimmy, que son más compatibles con versiones recientes de stable-baselines3\n",
        "!pip install gymnasium==0.28.1 shimmy==0.2.1\n",
        "\n",
        "# Instalar la versión más reciente de stable-baselines3\n",
        "!pip install stable-baselines3\n",
        "\n",
        "# Instalar PyTorch, ya que stable-baselines3 necesita esta dependencia\n",
        "!pip install torch==2.5.0"
      ],
      "metadata": {
        "colab": {
          "base_uri": "https://localhost:8080/"
        },
        "id": "amqZdiSkTdvh",
        "outputId": "e3341575-1852-4190-f8db-dcaa9ec44457"
      },
      "execution_count": 1,
      "outputs": [
        {
          "output_type": "stream",
          "name": "stdout",
          "text": [
            "Requirement already satisfied: numpy==1.23.5 in /usr/local/lib/python3.10/dist-packages (1.23.5)\n",
            "Requirement already satisfied: pandas==2.2.2 in /usr/local/lib/python3.10/dist-packages (2.2.2)\n",
            "Requirement already satisfied: python-dateutil>=2.8.2 in /usr/local/lib/python3.10/dist-packages (from pandas==2.2.2) (2.8.2)\n",
            "Requirement already satisfied: pytz>=2020.1 in /usr/local/lib/python3.10/dist-packages (from pandas==2.2.2) (2024.2)\n",
            "Requirement already satisfied: tzdata>=2022.7 in /usr/local/lib/python3.10/dist-packages (from pandas==2.2.2) (2024.2)\n",
            "Requirement already satisfied: six>=1.5 in /usr/local/lib/python3.10/dist-packages (from python-dateutil>=2.8.2->pandas==2.2.2) (1.16.0)\n",
            "Requirement already satisfied: gymnasium==0.28.1 in /usr/local/lib/python3.10/dist-packages (0.28.1)\n",
            "Requirement already satisfied: shimmy==0.2.1 in /usr/local/lib/python3.10/dist-packages (0.2.1)\n",
            "Requirement already satisfied: numpy>=1.21.0 in /usr/local/lib/python3.10/dist-packages (from gymnasium==0.28.1) (1.23.5)\n",
            "Requirement already satisfied: jax-jumpy>=1.0.0 in /usr/local/lib/python3.10/dist-packages (from gymnasium==0.28.1) (1.0.0)\n",
            "Requirement already satisfied: cloudpickle>=1.2.0 in /usr/local/lib/python3.10/dist-packages (from gymnasium==0.28.1) (3.1.0)\n",
            "Requirement already satisfied: typing-extensions>=4.3.0 in /usr/local/lib/python3.10/dist-packages (from gymnasium==0.28.1) (4.12.2)\n",
            "Requirement already satisfied: farama-notifications>=0.0.1 in /usr/local/lib/python3.10/dist-packages (from gymnasium==0.28.1) (0.0.4)\n",
            "Collecting stable-baselines3\n",
            "  Downloading stable_baselines3-2.4.0-py3-none-any.whl.metadata (4.5 kB)\n",
            "Collecting gymnasium<1.1.0,>=0.29.1 (from stable-baselines3)\n",
            "  Downloading gymnasium-1.0.0-py3-none-any.whl.metadata (9.5 kB)\n",
            "Requirement already satisfied: numpy<2.0,>=1.20 in /usr/local/lib/python3.10/dist-packages (from stable-baselines3) (1.23.5)\n",
            "Requirement already satisfied: torch>=1.13 in /usr/local/lib/python3.10/dist-packages (from stable-baselines3) (2.5.1+cu121)\n",
            "Requirement already satisfied: cloudpickle in /usr/local/lib/python3.10/dist-packages (from stable-baselines3) (3.1.0)\n",
            "Requirement already satisfied: pandas in /usr/local/lib/python3.10/dist-packages (from stable-baselines3) (2.2.2)\n",
            "Requirement already satisfied: matplotlib in /usr/local/lib/python3.10/dist-packages (from stable-baselines3) (3.8.0)\n",
            "Requirement already satisfied: typing-extensions>=4.3.0 in /usr/local/lib/python3.10/dist-packages (from gymnasium<1.1.0,>=0.29.1->stable-baselines3) (4.12.2)\n",
            "Requirement already satisfied: farama-notifications>=0.0.1 in /usr/local/lib/python3.10/dist-packages (from gymnasium<1.1.0,>=0.29.1->stable-baselines3) (0.0.4)\n",
            "Requirement already satisfied: filelock in /usr/local/lib/python3.10/dist-packages (from torch>=1.13->stable-baselines3) (3.16.1)\n",
            "Requirement already satisfied: networkx in /usr/local/lib/python3.10/dist-packages (from torch>=1.13->stable-baselines3) (3.4.2)\n",
            "Requirement already satisfied: jinja2 in /usr/local/lib/python3.10/dist-packages (from torch>=1.13->stable-baselines3) (3.1.4)\n",
            "Requirement already satisfied: fsspec in /usr/local/lib/python3.10/dist-packages (from torch>=1.13->stable-baselines3) (2024.10.0)\n",
            "Requirement already satisfied: sympy==1.13.1 in /usr/local/lib/python3.10/dist-packages (from torch>=1.13->stable-baselines3) (1.13.1)\n",
            "Requirement already satisfied: mpmath<1.4,>=1.1.0 in /usr/local/lib/python3.10/dist-packages (from sympy==1.13.1->torch>=1.13->stable-baselines3) (1.3.0)\n",
            "Requirement already satisfied: contourpy>=1.0.1 in /usr/local/lib/python3.10/dist-packages (from matplotlib->stable-baselines3) (1.3.1)\n",
            "Requirement already satisfied: cycler>=0.10 in /usr/local/lib/python3.10/dist-packages (from matplotlib->stable-baselines3) (0.12.1)\n",
            "Requirement already satisfied: fonttools>=4.22.0 in /usr/local/lib/python3.10/dist-packages (from matplotlib->stable-baselines3) (4.55.0)\n",
            "Requirement already satisfied: kiwisolver>=1.0.1 in /usr/local/lib/python3.10/dist-packages (from matplotlib->stable-baselines3) (1.4.7)\n",
            "Requirement already satisfied: packaging>=20.0 in /usr/local/lib/python3.10/dist-packages (from matplotlib->stable-baselines3) (24.2)\n",
            "Requirement already satisfied: pillow>=6.2.0 in /usr/local/lib/python3.10/dist-packages (from matplotlib->stable-baselines3) (11.0.0)\n",
            "Requirement already satisfied: pyparsing>=2.3.1 in /usr/local/lib/python3.10/dist-packages (from matplotlib->stable-baselines3) (3.2.0)\n",
            "Requirement already satisfied: python-dateutil>=2.7 in /usr/local/lib/python3.10/dist-packages (from matplotlib->stable-baselines3) (2.8.2)\n",
            "Requirement already satisfied: pytz>=2020.1 in /usr/local/lib/python3.10/dist-packages (from pandas->stable-baselines3) (2024.2)\n",
            "Requirement already satisfied: tzdata>=2022.7 in /usr/local/lib/python3.10/dist-packages (from pandas->stable-baselines3) (2024.2)\n",
            "Requirement already satisfied: six>=1.5 in /usr/local/lib/python3.10/dist-packages (from python-dateutil>=2.7->matplotlib->stable-baselines3) (1.16.0)\n",
            "Requirement already satisfied: MarkupSafe>=2.0 in /usr/local/lib/python3.10/dist-packages (from jinja2->torch>=1.13->stable-baselines3) (3.0.2)\n",
            "Downloading stable_baselines3-2.4.0-py3-none-any.whl (183 kB)\n",
            "\u001b[2K   \u001b[90m━━━━━━━━━━━━━━━━━━━━━━━━━━━━━━━━━━━━━━━━\u001b[0m \u001b[32m183.9/183.9 kB\u001b[0m \u001b[31m4.1 MB/s\u001b[0m eta \u001b[36m0:00:00\u001b[0m\n",
            "\u001b[?25hDownloading gymnasium-1.0.0-py3-none-any.whl (958 kB)\n",
            "\u001b[2K   \u001b[90m━━━━━━━━━━━━━━━━━━━━━━━━━━━━━━━━━━━━━━━━\u001b[0m \u001b[32m958.1/958.1 kB\u001b[0m \u001b[31m26.3 MB/s\u001b[0m eta \u001b[36m0:00:00\u001b[0m\n",
            "\u001b[?25hInstalling collected packages: gymnasium, stable-baselines3\n",
            "  Attempting uninstall: gymnasium\n",
            "    Found existing installation: gymnasium 0.28.1\n",
            "    Uninstalling gymnasium-0.28.1:\n",
            "      Successfully uninstalled gymnasium-0.28.1\n",
            "Successfully installed gymnasium-1.0.0 stable-baselines3-2.4.0\n",
            "Collecting torch==2.5.0\n",
            "  Using cached torch-2.5.0-cp310-cp310-manylinux1_x86_64.whl.metadata (28 kB)\n",
            "Requirement already satisfied: filelock in /usr/local/lib/python3.10/dist-packages (from torch==2.5.0) (3.16.1)\n",
            "Requirement already satisfied: typing-extensions>=4.8.0 in /usr/local/lib/python3.10/dist-packages (from torch==2.5.0) (4.12.2)\n",
            "Requirement already satisfied: networkx in /usr/local/lib/python3.10/dist-packages (from torch==2.5.0) (3.4.2)\n",
            "Requirement already satisfied: jinja2 in /usr/local/lib/python3.10/dist-packages (from torch==2.5.0) (3.1.4)\n",
            "Requirement already satisfied: fsspec in /usr/local/lib/python3.10/dist-packages (from torch==2.5.0) (2024.10.0)\n",
            "Collecting nvidia-cuda-nvrtc-cu12==12.4.127 (from torch==2.5.0)\n",
            "  Using cached nvidia_cuda_nvrtc_cu12-12.4.127-py3-none-manylinux2014_x86_64.whl.metadata (1.5 kB)\n",
            "Collecting nvidia-cuda-runtime-cu12==12.4.127 (from torch==2.5.0)\n",
            "  Using cached nvidia_cuda_runtime_cu12-12.4.127-py3-none-manylinux2014_x86_64.whl.metadata (1.5 kB)\n",
            "Collecting nvidia-cuda-cupti-cu12==12.4.127 (from torch==2.5.0)\n",
            "  Using cached nvidia_cuda_cupti_cu12-12.4.127-py3-none-manylinux2014_x86_64.whl.metadata (1.6 kB)\n",
            "Collecting nvidia-cudnn-cu12==9.1.0.70 (from torch==2.5.0)\n",
            "  Using cached nvidia_cudnn_cu12-9.1.0.70-py3-none-manylinux2014_x86_64.whl.metadata (1.6 kB)\n",
            "Collecting nvidia-cublas-cu12==12.4.5.8 (from torch==2.5.0)\n",
            "  Using cached nvidia_cublas_cu12-12.4.5.8-py3-none-manylinux2014_x86_64.whl.metadata (1.5 kB)\n",
            "Collecting nvidia-cufft-cu12==11.2.1.3 (from torch==2.5.0)\n",
            "  Using cached nvidia_cufft_cu12-11.2.1.3-py3-none-manylinux2014_x86_64.whl.metadata (1.5 kB)\n",
            "Collecting nvidia-curand-cu12==10.3.5.147 (from torch==2.5.0)\n",
            "  Using cached nvidia_curand_cu12-10.3.5.147-py3-none-manylinux2014_x86_64.whl.metadata (1.5 kB)\n",
            "Collecting nvidia-cusolver-cu12==11.6.1.9 (from torch==2.5.0)\n",
            "  Using cached nvidia_cusolver_cu12-11.6.1.9-py3-none-manylinux2014_x86_64.whl.metadata (1.6 kB)\n",
            "Collecting nvidia-cusparse-cu12==12.3.1.170 (from torch==2.5.0)\n",
            "  Using cached nvidia_cusparse_cu12-12.3.1.170-py3-none-manylinux2014_x86_64.whl.metadata (1.6 kB)\n",
            "Collecting nvidia-nccl-cu12==2.21.5 (from torch==2.5.0)\n",
            "  Using cached nvidia_nccl_cu12-2.21.5-py3-none-manylinux2014_x86_64.whl.metadata (1.8 kB)\n",
            "Collecting nvidia-nvtx-cu12==12.4.127 (from torch==2.5.0)\n",
            "  Using cached nvidia_nvtx_cu12-12.4.127-py3-none-manylinux2014_x86_64.whl.metadata (1.7 kB)\n",
            "Collecting nvidia-nvjitlink-cu12==12.4.127 (from torch==2.5.0)\n",
            "  Using cached nvidia_nvjitlink_cu12-12.4.127-py3-none-manylinux2014_x86_64.whl.metadata (1.5 kB)\n",
            "Collecting triton==3.1.0 (from torch==2.5.0)\n",
            "  Using cached triton-3.1.0-cp310-cp310-manylinux_2_17_x86_64.manylinux2014_x86_64.whl.metadata (1.3 kB)\n",
            "Requirement already satisfied: sympy==1.13.1 in /usr/local/lib/python3.10/dist-packages (from torch==2.5.0) (1.13.1)\n",
            "Requirement already satisfied: mpmath<1.4,>=1.1.0 in /usr/local/lib/python3.10/dist-packages (from sympy==1.13.1->torch==2.5.0) (1.3.0)\n",
            "Requirement already satisfied: MarkupSafe>=2.0 in /usr/local/lib/python3.10/dist-packages (from jinja2->torch==2.5.0) (3.0.2)\n",
            "Using cached torch-2.5.0-cp310-cp310-manylinux1_x86_64.whl (906.4 MB)\n",
            "Downloading nvidia_cublas_cu12-12.4.5.8-py3-none-manylinux2014_x86_64.whl (363.4 MB)\n",
            "\u001b[2K   \u001b[90m━━━━━━━━━━━━━━━━━━━━━━━━━━━━━━━━━━━━━━━━\u001b[0m \u001b[32m363.4/363.4 MB\u001b[0m \u001b[31m4.3 MB/s\u001b[0m eta \u001b[36m0:00:00\u001b[0m\n",
            "\u001b[?25hDownloading nvidia_cuda_cupti_cu12-12.4.127-py3-none-manylinux2014_x86_64.whl (13.8 MB)\n",
            "\u001b[2K   \u001b[90m━━━━━━━━━━━━━━━━━━━━━━━━━━━━━━━━━━━━━━━━\u001b[0m \u001b[32m13.8/13.8 MB\u001b[0m \u001b[31m78.7 MB/s\u001b[0m eta \u001b[36m0:00:00\u001b[0m\n",
            "\u001b[?25hDownloading nvidia_cuda_nvrtc_cu12-12.4.127-py3-none-manylinux2014_x86_64.whl (24.6 MB)\n",
            "\u001b[2K   \u001b[90m━━━━━━━━━━━━━━━━━━━━━━━━━━━━━━━━━━━━━━━━\u001b[0m \u001b[32m24.6/24.6 MB\u001b[0m \u001b[31m69.1 MB/s\u001b[0m eta \u001b[36m0:00:00\u001b[0m\n",
            "\u001b[?25hDownloading nvidia_cuda_runtime_cu12-12.4.127-py3-none-manylinux2014_x86_64.whl (883 kB)\n",
            "\u001b[2K   \u001b[90m━━━━━━━━━━━━━━━━━━━━━━━━━━━━━━━━━━━━━━━━\u001b[0m \u001b[32m883.7/883.7 kB\u001b[0m \u001b[31m43.1 MB/s\u001b[0m eta \u001b[36m0:00:00\u001b[0m\n",
            "\u001b[?25hDownloading nvidia_cudnn_cu12-9.1.0.70-py3-none-manylinux2014_x86_64.whl (664.8 MB)\n",
            "\u001b[2K   \u001b[90m━━━━━━━━━━━━━━━━━━━━━━━━━━━━━━━━━━━━━━━━\u001b[0m \u001b[32m664.8/664.8 MB\u001b[0m \u001b[31m2.8 MB/s\u001b[0m eta \u001b[36m0:00:00\u001b[0m\n",
            "\u001b[?25hDownloading nvidia_cufft_cu12-11.2.1.3-py3-none-manylinux2014_x86_64.whl (211.5 MB)\n",
            "\u001b[2K   \u001b[90m━━━━━━━━━━━━━━━━━━━━━━━━━━━━━━━━━━━━━━━━\u001b[0m \u001b[32m211.5/211.5 MB\u001b[0m \u001b[31m6.3 MB/s\u001b[0m eta \u001b[36m0:00:00\u001b[0m\n",
            "\u001b[?25hDownloading nvidia_curand_cu12-10.3.5.147-py3-none-manylinux2014_x86_64.whl (56.3 MB)\n",
            "\u001b[2K   \u001b[90m━━━━━━━━━━━━━━━━━━━━━━━━━━━━━━━━━━━━━━━━\u001b[0m \u001b[32m56.3/56.3 MB\u001b[0m \u001b[31m9.8 MB/s\u001b[0m eta \u001b[36m0:00:00\u001b[0m\n",
            "\u001b[?25hDownloading nvidia_cusolver_cu12-11.6.1.9-py3-none-manylinux2014_x86_64.whl (127.9 MB)\n",
            "\u001b[2K   \u001b[90m━━━━━━━━━━━━━━━━━━━━━━━━━━━━━━━━━━━━━━━━\u001b[0m \u001b[32m127.9/127.9 MB\u001b[0m \u001b[31m7.0 MB/s\u001b[0m eta \u001b[36m0:00:00\u001b[0m\n",
            "\u001b[?25hDownloading nvidia_cusparse_cu12-12.3.1.170-py3-none-manylinux2014_x86_64.whl (207.5 MB)\n",
            "\u001b[2K   \u001b[90m━━━━━━━━━━━━━━━━━━━━━━━━━━━━━━━━━━━━━━━━\u001b[0m \u001b[32m207.5/207.5 MB\u001b[0m \u001b[31m6.4 MB/s\u001b[0m eta \u001b[36m0:00:00\u001b[0m\n",
            "\u001b[?25hDownloading nvidia_nccl_cu12-2.21.5-py3-none-manylinux2014_x86_64.whl (188.7 MB)\n",
            "\u001b[2K   \u001b[90m━━━━━━━━━━━━━━━━━━━━━━━━━━━━━━━━━━━━━━━━\u001b[0m \u001b[32m188.7/188.7 MB\u001b[0m \u001b[31m6.8 MB/s\u001b[0m eta \u001b[36m0:00:00\u001b[0m\n",
            "\u001b[?25hDownloading nvidia_nvjitlink_cu12-12.4.127-py3-none-manylinux2014_x86_64.whl (21.1 MB)\n",
            "\u001b[2K   \u001b[90m━━━━━━━━━━━━━━━━━━━━━━━━━━━━━━━━━━━━━━━━\u001b[0m \u001b[32m21.1/21.1 MB\u001b[0m \u001b[31m79.1 MB/s\u001b[0m eta \u001b[36m0:00:00\u001b[0m\n",
            "\u001b[?25hDownloading nvidia_nvtx_cu12-12.4.127-py3-none-manylinux2014_x86_64.whl (99 kB)\n",
            "\u001b[2K   \u001b[90m━━━━━━━━━━━━━━━━━━━━━━━━━━━━━━━━━━━━━━━━\u001b[0m \u001b[32m99.1/99.1 kB\u001b[0m \u001b[31m8.3 MB/s\u001b[0m eta \u001b[36m0:00:00\u001b[0m\n",
            "\u001b[?25hDownloading triton-3.1.0-cp310-cp310-manylinux_2_17_x86_64.manylinux2014_x86_64.whl (209.5 MB)\n",
            "\u001b[2K   \u001b[90m━━━━━━━━━━━━━━━━━━━━━━━━━━━━━━━━━━━━━━━━\u001b[0m \u001b[32m209.5/209.5 MB\u001b[0m \u001b[31m5.9 MB/s\u001b[0m eta \u001b[36m0:00:00\u001b[0m\n",
            "\u001b[?25hInstalling collected packages: triton, nvidia-nvtx-cu12, nvidia-nvjitlink-cu12, nvidia-nccl-cu12, nvidia-curand-cu12, nvidia-cufft-cu12, nvidia-cuda-runtime-cu12, nvidia-cuda-nvrtc-cu12, nvidia-cuda-cupti-cu12, nvidia-cublas-cu12, nvidia-cusparse-cu12, nvidia-cudnn-cu12, nvidia-cusolver-cu12, torch\n",
            "  Attempting uninstall: nvidia-nvjitlink-cu12\n",
            "    Found existing installation: nvidia-nvjitlink-cu12 12.6.77\n",
            "    Uninstalling nvidia-nvjitlink-cu12-12.6.77:\n",
            "      Successfully uninstalled nvidia-nvjitlink-cu12-12.6.77\n",
            "  Attempting uninstall: nvidia-nccl-cu12\n",
            "    Found existing installation: nvidia-nccl-cu12 2.23.4\n",
            "    Uninstalling nvidia-nccl-cu12-2.23.4:\n",
            "      Successfully uninstalled nvidia-nccl-cu12-2.23.4\n",
            "  Attempting uninstall: nvidia-curand-cu12\n",
            "    Found existing installation: nvidia-curand-cu12 10.3.7.77\n",
            "    Uninstalling nvidia-curand-cu12-10.3.7.77:\n",
            "      Successfully uninstalled nvidia-curand-cu12-10.3.7.77\n",
            "  Attempting uninstall: nvidia-cufft-cu12\n",
            "    Found existing installation: nvidia-cufft-cu12 11.3.0.4\n",
            "    Uninstalling nvidia-cufft-cu12-11.3.0.4:\n",
            "      Successfully uninstalled nvidia-cufft-cu12-11.3.0.4\n",
            "  Attempting uninstall: nvidia-cuda-runtime-cu12\n",
            "    Found existing installation: nvidia-cuda-runtime-cu12 12.6.77\n",
            "    Uninstalling nvidia-cuda-runtime-cu12-12.6.77:\n",
            "      Successfully uninstalled nvidia-cuda-runtime-cu12-12.6.77\n",
            "  Attempting uninstall: nvidia-cuda-cupti-cu12\n",
            "    Found existing installation: nvidia-cuda-cupti-cu12 12.6.80\n",
            "    Uninstalling nvidia-cuda-cupti-cu12-12.6.80:\n",
            "      Successfully uninstalled nvidia-cuda-cupti-cu12-12.6.80\n",
            "  Attempting uninstall: nvidia-cublas-cu12\n",
            "    Found existing installation: nvidia-cublas-cu12 12.6.3.3\n",
            "    Uninstalling nvidia-cublas-cu12-12.6.3.3:\n",
            "      Successfully uninstalled nvidia-cublas-cu12-12.6.3.3\n",
            "  Attempting uninstall: nvidia-cusparse-cu12\n",
            "    Found existing installation: nvidia-cusparse-cu12 12.5.4.2\n",
            "    Uninstalling nvidia-cusparse-cu12-12.5.4.2:\n",
            "      Successfully uninstalled nvidia-cusparse-cu12-12.5.4.2\n",
            "  Attempting uninstall: nvidia-cudnn-cu12\n",
            "    Found existing installation: nvidia-cudnn-cu12 9.5.1.17\n",
            "    Uninstalling nvidia-cudnn-cu12-9.5.1.17:\n",
            "      Successfully uninstalled nvidia-cudnn-cu12-9.5.1.17\n",
            "  Attempting uninstall: nvidia-cusolver-cu12\n",
            "    Found existing installation: nvidia-cusolver-cu12 11.7.1.2\n",
            "    Uninstalling nvidia-cusolver-cu12-11.7.1.2:\n",
            "      Successfully uninstalled nvidia-cusolver-cu12-11.7.1.2\n",
            "  Attempting uninstall: torch\n",
            "    Found existing installation: torch 2.5.1+cu121\n",
            "    Uninstalling torch-2.5.1+cu121:\n",
            "      Successfully uninstalled torch-2.5.1+cu121\n",
            "\u001b[31mERROR: pip's dependency resolver does not currently take into account all the packages that are installed. This behaviour is the source of the following dependency conflicts.\n",
            "torchaudio 2.5.1+cu121 requires torch==2.5.1, but you have torch 2.5.0 which is incompatible.\n",
            "torchvision 0.20.1+cu121 requires torch==2.5.1, but you have torch 2.5.0 which is incompatible.\u001b[0m\u001b[31m\n",
            "\u001b[0mSuccessfully installed nvidia-cublas-cu12-12.4.5.8 nvidia-cuda-cupti-cu12-12.4.127 nvidia-cuda-nvrtc-cu12-12.4.127 nvidia-cuda-runtime-cu12-12.4.127 nvidia-cudnn-cu12-9.1.0.70 nvidia-cufft-cu12-11.2.1.3 nvidia-curand-cu12-10.3.5.147 nvidia-cusolver-cu12-11.6.1.9 nvidia-cusparse-cu12-12.3.1.170 nvidia-nccl-cu12-2.21.5 nvidia-nvjitlink-cu12-12.4.127 nvidia-nvtx-cu12-12.4.127 torch-2.5.0 triton-3.1.0\n"
          ]
        }
      ]
    },
    {
      "cell_type": "markdown",
      "source": [
        "##Entorno de planificación de procesos"
      ],
      "metadata": {
        "id": "xeJ60g4aXYfH"
      }
    },
    {
      "cell_type": "code",
      "source": [
        "import gym\n",
        "from gym import spaces\n",
        "import numpy as np\n",
        "\n",
        "class ProcessSchedulingEnv(gym.Env):\n",
        "  def __init__(self, processes):\n",
        "    super(ProcessSchedulingEnv, self).__init__()\n",
        "    self.processes = processes\n",
        "    self.current_time = 0\n",
        "    self.execution_history = []  # Historial de todas las ejecuciones\n",
        "    self.best_execution = []  # La mejor ejecución\n",
        "    self.remaining_times = [p['run_time'] for p in processes]\n",
        "    self.last_process = None  # Para rastrear el último proceso ejecutado\n",
        "    self.action_space = spaces.Discrete(len(processes))  # Espacio de acciones: un índice de proceso\n",
        "    self.observation_space = spaces.Box( # Definimos la observación como los tiempos restantes de cada proceso\n",
        "      low=0, high=np.inf, shape=(len(processes),), dtype=np.float32\n",
        "    )\n",
        "\n",
        "  def reset(self): # Reiniciar el estado del entorno\n",
        "    self.current_time = 0\n",
        "    self.execution_history = []  # Reiniciar el historial de ejecuciones\n",
        "    self.remaining_times = [p['run_time'] for p in self.processes]\n",
        "    self.last_process = None  # Reiniciar el último proceso\n",
        "    return np.array(self.remaining_times, dtype=np.float32)\n",
        "\n",
        "  def step(self, action):\n",
        "    valid_actions = [  # Filtrar las acciones válidas\n",
        "      i for i, (rt, p) in enumerate(zip(self.remaining_times, self.processes))\n",
        "        if rt > 0 and self.current_time >= p['arrival_time']\n",
        "    ]\n",
        "    if valid_actions and action not in valid_actions:  # Si la acción no es válida retorna con penalización\n",
        "      return np.array(self.remaining_times), -100, False, {}  # Penalización\n",
        "    self.remaining_times[action] -= 1 # Ejecutar 1 unidad de tiempo\n",
        "    self.current_time += 1\n",
        "    if self.last_process != self.processes[action]['name']: # Registrar la ejecución si es un cambio de proceso\n",
        "      self.execution_history.append((self.processes[action]['name'], self.current_time))\n",
        "      self.last_process = self.processes[action]['name']\n",
        "    else:\n",
        "      self.execution_history[-1] = (self.execution_history[-1][0], self.current_time) # Modificar la última tupla en self.execution_history\n",
        "    done = all(rt <= 0 for rt in self.remaining_times) # Verificar si todos los procesos han terminado\n",
        "    tt = t_turnaround(self.execution_history, self.processes)\n",
        "    tr = t_response(self.execution_history, self.processes)\n",
        "    if done:\n",
        "      if not self.best_execution: self.best_execution = self.execution_history.copy() # Si mejor ejecución está vacía, se agrega\n",
        "      else: # Sino se compara compara para encontrar la mejor\n",
        "        tt_b = t_turnaround(self.best_execution, self.processes)\n",
        "        tr_b = t_response(self.best_execution, self.processes)\n",
        "        if (tt+tr) < (tt_b+tr_b): self.best_execution = self.execution_history.copy()\n",
        "    reward = 100-(tr+tt) # Calcular recompensa\n",
        "    return np.array(self.remaining_times, dtype=np.float32), reward, done, {}"
      ],
      "metadata": {
        "id": "QP3PUjK7qZjZ"
      },
      "execution_count": 20,
      "outputs": []
    },
    {
      "cell_type": "markdown",
      "source": [
        "##Entrenamiento de modelo PPO"
      ],
      "metadata": {
        "id": "1VQOHeHpb6YJ"
      }
    },
    {
      "cell_type": "code",
      "source": [
        "from stable_baselines3 import PPO\n",
        "\n",
        "def modelo(processes):\n",
        "    env = ProcessSchedulingEnv(processes) # Instanciar el entorno y el modelo PPO\n",
        "    model = PPO(\"MlpPolicy\", env, verbose=0)\n",
        "    model.learn(total_timesteps=100) # Entrenar el modelo\n",
        "    obs = env.reset() # Evaluación del modelo\n",
        "    done = False\n",
        "    while not done:\n",
        "      action, _states = model.predict(obs, deterministic=False) # Predecir acción\n",
        "      obs, reward, done, info = env.step(action)\n",
        "    return env.best_execution # Resultados finales de la predicción"
      ],
      "metadata": {
        "id": "OwLKPlT9XlJv"
      },
      "execution_count": 23,
      "outputs": []
    },
    {
      "cell_type": "markdown",
      "source": [
        "# Pruebas"
      ],
      "metadata": {
        "id": "Hqa6ynXeyg4y"
      }
    },
    {
      "cell_type": "markdown",
      "source": [
        "##Definir procesos"
      ],
      "metadata": {
        "id": "oQtgvgPayU_R"
      }
    },
    {
      "cell_type": "code",
      "source": [
        "processes = [\n",
        "    {'name': 'A', 'arrival_time': 0, 'run_time': 5},\n",
        "    {'name': 'B', 'arrival_time': 2, 'run_time': 3},\n",
        "    {'name': 'C', 'arrival_time': 4, 'run_time': 7},\n",
        "]"
      ],
      "metadata": {
        "id": "4MkIxApJI4EG"
      },
      "execution_count": 13,
      "outputs": []
    },
    {
      "cell_type": "markdown",
      "source": [
        "##FCFS"
      ],
      "metadata": {
        "id": "sfw_PqndyYaH"
      }
    },
    {
      "cell_type": "code",
      "source": [
        "scheduling = fcfs(processes)\n",
        "print(scheduling)\n",
        "tt = t_turnaround(scheduling, processes)\n",
        "tr = t_response(scheduling, processes)\n",
        "plot_scheduling(scheduling,tt,tr)"
      ],
      "metadata": {
        "colab": {
          "base_uri": "https://localhost:8080/",
          "height": 251
        },
        "id": "dzsF6KoKkIVo",
        "outputId": "7b196ef9-6873-4d66-bfd6-727158d643bd"
      },
      "execution_count": 14,
      "outputs": [
        {
          "output_type": "stream",
          "name": "stdout",
          "text": [
            "[('A', 5), ('B', 8), ('C', 15)]\n"
          ]
        },
        {
          "output_type": "display_data",
          "data": {
            "text/plain": [
              "<Figure size 1000x200 with 1 Axes>"
            ],
            "image/png": "[encoded data removed]"
          },
          "metadata": {}
        }
      ]
    },
    {
      "cell_type": "markdown",
      "source": [
        "##SJF"
      ],
      "metadata": {
        "id": "nz1TF0TlyiN4"
      }
    },
    {
      "cell_type": "code",
      "source": [
        "scheduling = sjf(processes)\n",
        "print(scheduling)\n",
        "tt = t_turnaround(scheduling, processes)\n",
        "tr = t_response(scheduling, processes)\n",
        "plot_scheduling(scheduling,tt,tr)"
      ],
      "metadata": {
        "colab": {
          "base_uri": "https://localhost:8080/",
          "height": 251
        },
        "id": "ulGRTANdxLVv",
        "outputId": "e5474d80-c8f3-4235-85bb-de54cf009085"
      },
      "execution_count": 15,
      "outputs": [
        {
          "output_type": "stream",
          "name": "stdout",
          "text": [
            "[('A', 5), ('B', 8), ('C', 15)]\n"
          ]
        },
        {
          "output_type": "display_data",
          "data": {
            "text/plain": [
              "<Figure size 1000x200 with 1 Axes>"
            ],
            "image/png": "[encoded data removed]"
          },
          "metadata": {}
        }
      ]
    },
    {
      "cell_type": "markdown",
      "source": [
        "##STCF"
      ],
      "metadata": {
        "id": "Vu94DjAHe9z-"
      }
    },
    {
      "cell_type": "code",
      "source": [
        "scheduling = stcf(processes)\n",
        "print(scheduling)\n",
        "tt = t_turnaround(scheduling, processes)\n",
        "tr = t_response(scheduling, processes)\n",
        "plot_scheduling(scheduling,tt,tr)"
      ],
      "metadata": {
        "colab": {
          "base_uri": "https://localhost:8080/",
          "height": 251
        },
        "id": "EqLUcljFe2af",
        "outputId": "6bd6cc03-0ae7-484d-d335-67429b5ac5f8"
      },
      "execution_count": 16,
      "outputs": [
        {
          "output_type": "stream",
          "name": "stdout",
          "text": [
            "[('A', 5), ('B', 8), ('C', 15)]\n"
          ]
        },
        {
          "output_type": "display_data",
          "data": {
            "text/plain": [
              "<Figure size 1000x200 with 1 Axes>"
            ],
            "image/png": "[encoded data removed]"
          },
          "metadata": {}
        }
      ]
    },
    {
      "cell_type": "markdown",
      "source": [
        "##RR"
      ],
      "metadata": {
        "id": "6FOaZ1palQ5o"
      }
    },
    {
      "cell_type": "code",
      "source": [
        "scheduling = rr(processes,1)\n",
        "print(scheduling)\n",
        "tt = t_turnaround(scheduling, processes)\n",
        "tr = t_response(scheduling, processes)\n",
        "plot_scheduling(scheduling,tt,tr)"
      ],
      "metadata": {
        "colab": {
          "base_uri": "https://localhost:8080/",
          "height": 271
        },
        "id": "Z_lbxMOPlQdY",
        "outputId": "96e9fae8-0ada-415f-c744-dbee0ae8687d"
      },
      "execution_count": 18,
      "outputs": [
        {
          "output_type": "stream",
          "name": "stdout",
          "text": [
            "[('A', 1), ('A', 2), ('B', 3), ('A', 4), ('C', 5), ('B', 6), ('A', 7), ('C', 8), ('B', 9), ('A', 10), ('C', 11), ('C', 12), ('C', 13), ('C', 14), ('C', 15)]\n"
          ]
        },
        {
          "output_type": "display_data",
          "data": {
            "text/plain": [
              "<Figure size 1000x200 with 1 Axes>"
            ],
            "image/png": "[encoded data removed]"
          },
          "metadata": {}
        }
      ]
    },
    {
      "cell_type": "markdown",
      "source": [
        "##Modelo"
      ],
      "metadata": {
        "id": "biXI4HWke5_1"
      }
    },
    {
      "cell_type": "code",
      "source": [
        "scheduling = modelo(processes)\n",
        "print(scheduling)\n",
        "tt = t_turnaround(scheduling, processes)\n",
        "tr = t_response(scheduling, processes)\n",
        "plot_scheduling(scheduling,tt,tr)"
      ],
      "metadata": {
        "colab": {
          "base_uri": "https://localhost:8080/",
          "height": 306
        },
        "id": "gvtn_FR-9FCJ",
        "outputId": "60b31078-da5f-4a96-c3f6-54bdf8fcced4"
      },
      "execution_count": 24,
      "outputs": [
        {
          "output_type": "stream",
          "name": "stderr",
          "text": [
            "/usr/local/lib/python3.10/dist-packages/stable_baselines3/common/vec_env/patch_gym.py:49: UserWarning: You provided an OpenAI Gym environment. We strongly recommend transitioning to Gymnasium environments. Stable-Baselines3 is automatically wrapping your environments in a compatibility layer, which could potentially cause issues.\n",
            "  warnings.warn(\n"
          ]
        },
        {
          "output_type": "stream",
          "name": "stdout",
          "text": [
            "[('A', 2), ('B', 5), ('C', 6), ('A', 9), ('C', 15)]\n"
          ]
        },
        {
          "output_type": "display_data",
          "data": {
            "text/plain": [
              "<Figure size 1000x200 with 1 Axes>"
            ],
            "image/png": "[encoded data removed]"
          },
          "metadata": {}
        }
      ]
    }
  ]
}