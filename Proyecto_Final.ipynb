{
  "nbformat": 4,
  "nbformat_minor": 0,
  "metadata": {
    "colab": {
      "provenance": [],
      "collapsed_sections": [
        "cgx4Yv6ScVnp"
      ],
      "authorship_tag": "ABX9TyOQrYkUZV0PyGfISisdOouW",
      "include_colab_link": true
    },
    "kernelspec": {
      "name": "python3",
      "display_name": "Python 3"
    },
    "language_info": {
      "name": "python"
    }
  },
  "cells": [
    {
      "cell_type": "markdown",
      "metadata": {
        "id": "view-in-github",
        "colab_type": "text"
      },
      "source": [
        "<a href=\"https://colab.research.google.com/github/Alejandro-XIII/Proyecto-Final-SO/blob/main/Proyecto_Final.ipynb\" target=\"_parent\"><img src=\"https://colab.research.google.com/assets/colab-badge.svg\" alt=\"Open In Colab\"/></a>"
      ]
    },
    {
      "cell_type": "markdown",
      "source": [
        "#Scheduling"
      ],
      "metadata": {
        "id": "cgx4Yv6ScVnp"
      }
    },
    {
      "cell_type": "markdown",
      "source": [
        "##FCFS"
      ],
      "metadata": {
        "id": "-7zVI7Xjcfw4"
      }
    },
    {
      "cell_type": "code",
      "execution_count": 53,
      "metadata": {
        "id": "7q5goaWFcQIa"
      },
      "outputs": [],
      "source": [
        "def fcfs(processes):\n",
        "    processes_sorted = sorted(processes, key=lambda x: x['arrival_time'])\n",
        "    scheduling = []\n",
        "    time = 0\n",
        "    for process in processes_sorted:\n",
        "        time += process['run_time']\n",
        "        scheduling.append((process['name'], time))\n",
        "    return scheduling"
      ]
    },
    {
      "cell_type": "markdown",
      "source": [
        "##SJF"
      ],
      "metadata": {
        "id": "2f5n2wNickXh"
      }
    },
    {
      "cell_type": "code",
      "source": [
        "def sjf(processes):\n",
        "    processes_sorted = sorted(processes, key=lambda x: x['run_time'])\n",
        "    scheduling = []\n",
        "    time = 0\n",
        "    for process in processes_sorted:\n",
        "        time += process['run_time']\n",
        "        scheduling.append((process['name'], time))\n",
        "    return scheduling"
      ],
      "metadata": {
        "id": "b0g3vdQDcoF7"
      },
      "execution_count": 54,
      "outputs": []
    },
    {
      "cell_type": "markdown",
      "source": [
        "##STCF"
      ],
      "metadata": {
        "id": "6nqR-jYjcqEh"
      }
    },
    {
      "cell_type": "code",
      "source": [],
      "metadata": {
        "id": "bbscGz-Ect8S"
      },
      "execution_count": 54,
      "outputs": []
    },
    {
      "cell_type": "markdown",
      "source": [
        "##RR"
      ],
      "metadata": {
        "id": "a8pAdD-Jcvty"
      }
    },
    {
      "cell_type": "code",
      "source": [],
      "metadata": {
        "id": "3L3PBTQPc1Vr"
      },
      "execution_count": 54,
      "outputs": []
    },
    {
      "cell_type": "markdown",
      "source": [
        "##Imprimir scheduling"
      ],
      "metadata": {
        "id": "vQN6B2EOy9bL"
      }
    },
    {
      "cell_type": "code",
      "source": [
        "import matplotlib.pyplot as plt\n",
        "import matplotlib.patches as patches\n",
        "\n",
        "# Define un diccionario de colores para cada proceso\n",
        "process_colors = {\n",
        "    'A': 'red',     # Color para el proceso A\n",
        "    'B': 'blue',    # Color para el proceso B\n",
        "    'C': 'green',   # Color para el proceso C\n",
        "    # Agrega más procesos y colores según sea necesario\n",
        "}\n",
        "\n",
        "def plot_scheduling(scheduling, tt, tr):\n",
        "    start_time = 0\n",
        "    positions = []\n",
        "    for name, end_time in scheduling:\n",
        "        positions.append((name, start_time, end_time - start_time))\n",
        "        start_time = end_time\n",
        "\n",
        "    fig, ax = plt.subplots(figsize=(10, 2))  # Ajusta el tamaño de la figura\n",
        "    ax.set_xlim(0, scheduling[-1][1])  # Fija el límite del eje x\n",
        "    ax.set_ylim(0, 1)  # Fija el límite del eje y\n",
        "\n",
        "    for name, start, duration in positions:\n",
        "        color = process_colors.get(name, 'gray')  # Obtiene el color o usa gris por defecto\n",
        "        rect = patches.Rectangle((start, 0.5), duration, 0.3, edgecolor='black', facecolor=color)\n",
        "        ax.add_patch(rect)\n",
        "        ax.text(start + duration / 2, 0.65, name, ha='center', va='center', color='white', fontsize=10)\n",
        "\n",
        "    ax.get_yaxis().set_visible(False)  # Oculta el eje y\n",
        "    ax.set_xlabel(f\"TT: {tt}         TR: {tr}\")\n",
        "\n",
        "    plt.show()"
      ],
      "metadata": {
        "id": "YJp_MAmqtmqk"
      },
      "execution_count": 55,
      "outputs": []
    },
    {
      "cell_type": "markdown",
      "source": [
        "##Tturnaround"
      ],
      "metadata": {
        "id": "NdpnOAHNzTyj"
      }
    },
    {
      "cell_type": "code",
      "source": [
        "def t_turnaround(scheduling, processes):\n",
        "  t_turnaround = 0\n",
        "  for process in processes:\n",
        "    for name, t_completion in reversed(scheduling):\n",
        "      if name == process['name']:\n",
        "        t_turnaround += t_completion - process['arrival_time']\n",
        "        break\n",
        "  return t_turnaround / len(processes)"
      ],
      "metadata": {
        "id": "KABAYZX1zuy7"
      },
      "execution_count": 56,
      "outputs": []
    },
    {
      "cell_type": "markdown",
      "source": [
        "##Tresponse"
      ],
      "metadata": {
        "id": "hmtk78oF56bc"
      }
    },
    {
      "cell_type": "code",
      "source": [
        "def t_response(scheduling, processes):\n",
        "  t_response = 0\n",
        "  for process in processes:\n",
        "    for i in range(len(scheduling)):\n",
        "      if scheduling[i][0] == process['name']:\n",
        "        if i == 0: t_firstrun = 0\n",
        "        else: t_firstrun = scheduling[i-1][1]\n",
        "        t_response += t_firstrun - process['arrival_time']\n",
        "        break\n",
        "  return t_response / len(processes)"
      ],
      "metadata": {
        "id": "1etMqiK_5_Kd"
      },
      "execution_count": 57,
      "outputs": []
    },
    {
      "cell_type": "markdown",
      "source": [
        "#Modelo"
      ],
      "metadata": {
        "id": "mST8eZUFcXbQ"
      }
    },
    {
      "cell_type": "code",
      "source": [
        "# Primero, reinstalar numpy y pandas en versiones estables en Colab.\n",
        "!pip install numpy==1.23.5 pandas==2.2.2\n",
        "\n",
        "# Instalar gymnasium y shimmy, que son más compatibles con versiones recientes de stable-baselines3\n",
        "!pip install gymnasium==0.28.1 shimmy==0.2.1\n",
        "\n",
        "# Instalar la versión más reciente de stable-baselines3\n",
        "!pip install stable-baselines3\n",
        "\n",
        "# Instalar PyTorch, ya que stable-baselines3 necesita esta dependencia\n",
        "!pip install torch==2.5.0"
      ],
      "metadata": {
        "colab": {
          "base_uri": "https://localhost:8080/"
        },
        "id": "Q2ZEcFomla_A",
        "outputId": "d76b71c3-71d9-4128-ce35-f85be6f16a70"
      },
      "execution_count": 58,
      "outputs": [
        {
          "output_type": "stream",
          "name": "stdout",
          "text": [
            "Requirement already satisfied: numpy==1.23.5 in /usr/local/lib/python3.10/dist-packages (1.23.5)\n",
            "Requirement already satisfied: pandas==2.2.2 in /usr/local/lib/python3.10/dist-packages (2.2.2)\n",
            "Requirement already satisfied: python-dateutil>=2.8.2 in /usr/local/lib/python3.10/dist-packages (from pandas==2.2.2) (2.8.2)\n",
            "Requirement already satisfied: pytz>=2020.1 in /usr/local/lib/python3.10/dist-packages (from pandas==2.2.2) (2024.2)\n",
            "Requirement already satisfied: tzdata>=2022.7 in /usr/local/lib/python3.10/dist-packages (from pandas==2.2.2) (2024.2)\n",
            "Requirement already satisfied: six>=1.5 in /usr/local/lib/python3.10/dist-packages (from python-dateutil>=2.8.2->pandas==2.2.2) (1.16.0)\n",
            "Requirement already satisfied: gymnasium==0.28.1 in /usr/local/lib/python3.10/dist-packages (0.28.1)\n",
            "Requirement already satisfied: shimmy==0.2.1 in /usr/local/lib/python3.10/dist-packages (0.2.1)\n",
            "Requirement already satisfied: numpy>=1.21.0 in /usr/local/lib/python3.10/dist-packages (from gymnasium==0.28.1) (1.23.5)\n",
            "Requirement already satisfied: jax-jumpy>=1.0.0 in /usr/local/lib/python3.10/dist-packages (from gymnasium==0.28.1) (1.0.0)\n",
            "Requirement already satisfied: cloudpickle>=1.2.0 in /usr/local/lib/python3.10/dist-packages (from gymnasium==0.28.1) (3.1.0)\n",
            "Requirement already satisfied: typing-extensions>=4.3.0 in /usr/local/lib/python3.10/dist-packages (from gymnasium==0.28.1) (4.12.2)\n",
            "Requirement already satisfied: farama-notifications>=0.0.1 in /usr/local/lib/python3.10/dist-packages (from gymnasium==0.28.1) (0.0.4)\n",
            "Requirement already satisfied: stable-baselines3 in /usr/local/lib/python3.10/dist-packages (2.3.2)\n",
            "Requirement already satisfied: gymnasium<0.30,>=0.28.1 in /usr/local/lib/python3.10/dist-packages (from stable-baselines3) (0.28.1)\n",
            "Requirement already satisfied: numpy>=1.20 in /usr/local/lib/python3.10/dist-packages (from stable-baselines3) (1.23.5)\n",
            "Requirement already satisfied: torch>=1.13 in /usr/local/lib/python3.10/dist-packages (from stable-baselines3) (2.5.0+cu121)\n",
            "Requirement already satisfied: cloudpickle in /usr/local/lib/python3.10/dist-packages (from stable-baselines3) (3.1.0)\n",
            "Requirement already satisfied: pandas in /usr/local/lib/python3.10/dist-packages (from stable-baselines3) (2.2.2)\n",
            "Requirement already satisfied: matplotlib in /usr/local/lib/python3.10/dist-packages (from stable-baselines3) (3.8.0)\n",
            "Requirement already satisfied: jax-jumpy>=1.0.0 in /usr/local/lib/python3.10/dist-packages (from gymnasium<0.30,>=0.28.1->stable-baselines3) (1.0.0)\n",
            "Requirement already satisfied: typing-extensions>=4.3.0 in /usr/local/lib/python3.10/dist-packages (from gymnasium<0.30,>=0.28.1->stable-baselines3) (4.12.2)\n",
            "Requirement already satisfied: farama-notifications>=0.0.1 in /usr/local/lib/python3.10/dist-packages (from gymnasium<0.30,>=0.28.1->stable-baselines3) (0.0.4)\n",
            "Requirement already satisfied: filelock in /usr/local/lib/python3.10/dist-packages (from torch>=1.13->stable-baselines3) (3.16.1)\n",
            "Requirement already satisfied: networkx in /usr/local/lib/python3.10/dist-packages (from torch>=1.13->stable-baselines3) (3.4.2)\n",
            "Requirement already satisfied: jinja2 in /usr/local/lib/python3.10/dist-packages (from torch>=1.13->stable-baselines3) (3.1.4)\n",
            "Requirement already satisfied: fsspec in /usr/local/lib/python3.10/dist-packages (from torch>=1.13->stable-baselines3) (2024.10.0)\n",
            "Requirement already satisfied: sympy==1.13.1 in /usr/local/lib/python3.10/dist-packages (from torch>=1.13->stable-baselines3) (1.13.1)\n",
            "Requirement already satisfied: mpmath<1.4,>=1.1.0 in /usr/local/lib/python3.10/dist-packages (from sympy==1.13.1->torch>=1.13->stable-baselines3) (1.3.0)\n",
            "Requirement already satisfied: contourpy>=1.0.1 in /usr/local/lib/python3.10/dist-packages (from matplotlib->stable-baselines3) (1.3.0)\n",
            "Requirement already satisfied: cycler>=0.10 in /usr/local/lib/python3.10/dist-packages (from matplotlib->stable-baselines3) (0.12.1)\n",
            "Requirement already satisfied: fonttools>=4.22.0 in /usr/local/lib/python3.10/dist-packages (from matplotlib->stable-baselines3) (4.54.1)\n",
            "Requirement already satisfied: kiwisolver>=1.0.1 in /usr/local/lib/python3.10/dist-packages (from matplotlib->stable-baselines3) (1.4.7)\n",
            "Requirement already satisfied: packaging>=20.0 in /usr/local/lib/python3.10/dist-packages (from matplotlib->stable-baselines3) (24.1)\n",
            "Requirement already satisfied: pillow>=6.2.0 in /usr/local/lib/python3.10/dist-packages (from matplotlib->stable-baselines3) (10.4.0)\n",
            "Requirement already satisfied: pyparsing>=2.3.1 in /usr/local/lib/python3.10/dist-packages (from matplotlib->stable-baselines3) (3.2.0)\n",
            "Requirement already satisfied: python-dateutil>=2.7 in /usr/local/lib/python3.10/dist-packages (from matplotlib->stable-baselines3) (2.8.2)\n",
            "Requirement already satisfied: pytz>=2020.1 in /usr/local/lib/python3.10/dist-packages (from pandas->stable-baselines3) (2024.2)\n",
            "Requirement already satisfied: tzdata>=2022.7 in /usr/local/lib/python3.10/dist-packages (from pandas->stable-baselines3) (2024.2)\n",
            "Requirement already satisfied: six>=1.5 in /usr/local/lib/python3.10/dist-packages (from python-dateutil>=2.7->matplotlib->stable-baselines3) (1.16.0)\n",
            "Requirement already satisfied: MarkupSafe>=2.0 in /usr/local/lib/python3.10/dist-packages (from jinja2->torch>=1.13->stable-baselines3) (3.0.2)\n",
            "Requirement already satisfied: torch==2.5.0 in /usr/local/lib/python3.10/dist-packages (2.5.0+cu121)\n",
            "Requirement already satisfied: filelock in /usr/local/lib/python3.10/dist-packages (from torch==2.5.0) (3.16.1)\n",
            "Requirement already satisfied: typing-extensions>=4.8.0 in /usr/local/lib/python3.10/dist-packages (from torch==2.5.0) (4.12.2)\n",
            "Requirement already satisfied: networkx in /usr/local/lib/python3.10/dist-packages (from torch==2.5.0) (3.4.2)\n",
            "Requirement already satisfied: jinja2 in /usr/local/lib/python3.10/dist-packages (from torch==2.5.0) (3.1.4)\n",
            "Requirement already satisfied: fsspec in /usr/local/lib/python3.10/dist-packages (from torch==2.5.0) (2024.10.0)\n",
            "Requirement already satisfied: sympy==1.13.1 in /usr/local/lib/python3.10/dist-packages (from torch==2.5.0) (1.13.1)\n",
            "Requirement already satisfied: mpmath<1.4,>=1.1.0 in /usr/local/lib/python3.10/dist-packages (from sympy==1.13.1->torch==2.5.0) (1.3.0)\n",
            "Requirement already satisfied: MarkupSafe>=2.0 in /usr/local/lib/python3.10/dist-packages (from jinja2->torch==2.5.0) (3.0.2)\n"
          ]
        }
      ]
    },
    {
      "cell_type": "code",
      "source": [
        "class ProcessSchedulingEnv(gym.Env):\n",
        "    def __init__(self, processes):\n",
        "        super(ProcessSchedulingEnv, self).__init__()\n",
        "\n",
        "        self.processes = processes\n",
        "        self.current_time = 0\n",
        "        self.execution_history = []  # Historial de todas las ejecuciones\n",
        "        self.remaining_times = [p['run_time'] for p in processes]\n",
        "        self.last_process = None  # Para rastrear el último proceso ejecutado\n",
        "\n",
        "        # Definimos la acción como selección del índice del proceso\n",
        "        self.action_space = spaces.Discrete(len(processes))\n",
        "\n",
        "        # Definimos la observación con tiempos restantes\n",
        "        self.observation_space = spaces.Box(low=0, high=np.inf, shape=(len(processes),), dtype=np.float32)\n",
        "\n",
        "    def reset(self):\n",
        "        self.current_time = 0\n",
        "        self.execution_history = []  # Reiniciar el historial de ejecuciones\n",
        "        self.remaining_times = [p['run_time'] for p in self.processes]\n",
        "        self.last_process = None  # Reiniciar el último proceso\n",
        "        return np.array(self.remaining_times)\n",
        "\n",
        "    def step(self, action):\n",
        "        # Verificar que el proceso seleccionado no esté ya completado\n",
        "        if self.remaining_times[action] <= 0:\n",
        "            return np.array(self.remaining_times), -1, False, {}  # Penalización por elegir un proceso completado\n",
        "\n",
        "        # Determinar cuánto tiempo se ejecutará este proceso (puedes ajustar la lógica aquí)\n",
        "        execution_time = min(1, self.remaining_times[action])  # Ejecutar por un ciclo de tiempo\n",
        "        self.remaining_times[action] -= execution_time\n",
        "        self.current_time += execution_time\n",
        "\n",
        "        # Verificar si estamos cambiando de proceso\n",
        "        if self.last_process != self.processes[action]['name']:\n",
        "            self.execution_history.append((self.processes[action]['name'], self.current_time))\n",
        "            self.last_process = self.processes[action]['name']\n",
        "\n",
        "        # Determinar si todos los procesos están completados\n",
        "        done = all(rt == 0 for rt in self.remaining_times)\n",
        "\n",
        "        # Calcular recompensa\n",
        "        reward = -1  # Penalización por cada paso de tiempo para incentivar rapidez\n",
        "\n",
        "        return np.array(self.remaining_times), reward, done, {}"
      ],
      "metadata": {
        "id": "YDvxTtWDygTy"
      },
      "execution_count": 59,
      "outputs": []
    },
    {
      "cell_type": "code",
      "source": [
        "def modelo(processes):\n",
        "    # Instanciar el entorno y el modelo PPO\n",
        "    env = ProcessSchedulingEnv(processes)\n",
        "    model = PPO(\"MlpPolicy\", env, verbose=0)  # Cambia verbose a 0 para suprimir la salida del entrenamiento\n",
        "\n",
        "    # Entrenar el modelo\n",
        "    model.learn(total_timesteps=10000)\n",
        "\n",
        "    # Evaluación del modelo\n",
        "    obs = env.reset()\n",
        "    done = False\n",
        "    while not done:\n",
        "        action, _states = model.predict(obs, deterministic=True)\n",
        "        obs, reward, done, info = env.step(action)\n",
        "\n",
        "    # Resultados finales de la predicción\n",
        "    return env.execution_history"
      ],
      "metadata": {
        "id": "UGbx4FdzkefH"
      },
      "execution_count": 60,
      "outputs": []
    },
    {
      "cell_type": "markdown",
      "source": [
        "# Pruebas"
      ],
      "metadata": {
        "id": "Hqa6ynXeyg4y"
      }
    },
    {
      "cell_type": "code",
      "source": [
        "processes = [\n",
        "    {'name': 'A', 'arrival_time': 0, 'run_time': 10},\n",
        "    {'name': 'B', 'arrival_time': 0, 'run_time': 10},\n",
        "    {'name': 'C', 'arrival_time': 0, 'run_time': 10}\n",
        "]"
      ],
      "metadata": {
        "id": "4MkIxApJI4EG"
      },
      "execution_count": 61,
      "outputs": []
    },
    {
      "cell_type": "code",
      "source": [
        "scheduling = fcfs(processes)\n",
        "print(scheduling)\n",
        "tt = t_turnaround(scheduling, processes)\n",
        "tr = t_response(scheduling, processes)\n",
        "plot_scheduling(scheduling,tt,tr)"
      ],
      "metadata": {
        "colab": {
          "base_uri": "https://localhost:8080/",
          "height": 251
        },
        "id": "dzsF6KoKkIVo",
        "outputId": "609d8a2e-ff28-43c7-9cc1-8e32ea49f722"
      },
      "execution_count": 62,
      "outputs": [
        {
          "output_type": "stream",
          "name": "stdout",
          "text": [
            "[('A', 10), ('B', 20), ('C', 30)]\n"
          ]
        },
        {
          "output_type": "display_data",
          "data": {
            "text/plain": [
              "<Figure size 1000x200 with 1 Axes>"
            ],
            "image/png": "[encoded data removed]"
          },
          "metadata": {}
        }
      ]
    },
    {
      "cell_type": "code",
      "source": [
        "processes = [\n",
        "    {'name': 'A', 'arrival_time': 0, 'run_time': 10},\n",
        "    {'name': 'B', 'arrival_time': 0, 'run_time': 10},\n",
        "    {'name': 'C', 'arrival_time': 0, 'run_time': 10}\n",
        "]\n",
        "\n",
        "scheduling = modelo(processes)\n",
        "print(scheduling)\n",
        "tt = t_turnaround(scheduling, processes)\n",
        "tr = t_response(scheduling, processes)\n",
        "plot_scheduling(scheduling,tt,tr)"
      ],
      "metadata": {
        "colab": {
          "base_uri": "https://localhost:8080/",
          "height": 271
        },
        "id": "gvtn_FR-9FCJ",
        "outputId": "d3a11600-09b0-4da9-de9e-793d3a7f10b4"
      },
      "execution_count": 63,
      "outputs": [
        {
          "output_type": "stream",
          "name": "stdout",
          "text": [
            "[('C', 1), ('A', 4), ('B', 10), ('A', 12), ('B', 13), ('C', 14), ('B', 15), ('C', 16), ('B', 17), ('C', 18), ('A', 19), ('B', 20), ('C', 21), ('B', 22), ('C', 23), ('B', 24), ('A', 25), ('B', 26), ('C', 27), ('A', 28), ('B', 29), ('C', 30)]\n"
          ]
        },
        {
          "output_type": "display_data",
          "data": {
            "text/plain": [
              "<Figure size 1000x200 with 1 Axes>"
            ],
            "image/png": "[encoded data removed]"
          },
          "metadata": {}
        }
      ]
    }
  ]
}